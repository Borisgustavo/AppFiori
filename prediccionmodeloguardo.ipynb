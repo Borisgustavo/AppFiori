{
  "nbformat": 4,
  "nbformat_minor": 0,
  "metadata": {
    "colab": {
      "provenance": [],
      "authorship_tag": "ABX9TyNTX/DdLN2Kz78ibkv5aLid",
      "include_colab_link": true
    },
    "kernelspec": {
      "name": "python3",
      "display_name": "Python 3"
    },
    "language_info": {
      "name": "python"
    }
  },
  "cells": [
    {
      "cell_type": "markdown",
      "metadata": {
        "id": "view-in-github",
        "colab_type": "text"
      },
      "source": [
        "<a href=\"https://colab.research.google.com/github/Borisgustavo/AppFiori/blob/main/prediccionmodeloguardo.ipynb\" target=\"_parent\"><img src=\"https://colab.research.google.com/assets/colab-badge.svg\" alt=\"Open In Colab\"/></a>"
      ]
    },
    {
      "cell_type": "code",
      "source": [
        "import pandas as pd\n",
        "from sklearn.tree import DecisionTreeClassifier\n",
        "import joblib\n",
        "\n",
        "\n",
        "##df = pd.read_csv(\"juegos-ml.csv\")\n",
        "##x = df.drop(columns=[\"juegos\"])\n",
        "##y = df[\"juegos\"]\n",
        "\n",
        "\n",
        "#modelo = DecisionTreeClassifier()\n",
        "#modelo.fit(x.values, y)\n",
        "\n",
        "modelo = joblib.load('recomendaciones-juegos.joblib')\n",
        "predicciones = modelo.predict([[14, 0]])\n",
        "predicciones\n"
      ],
      "metadata": {
        "colab": {
          "base_uri": "https://localhost:8080/"
        },
        "id": "iDBA9OXUgXgc",
        "outputId": "2989cfa7-f9d6-4302-f37c-09fa778a2a66"
      },
      "execution_count": 4,
      "outputs": [
        {
          "output_type": "execute_result",
          "data": {
            "text/plain": [
              "array(['fps'], dtype=object)"
            ]
          },
          "metadata": {},
          "execution_count": 4
        }
      ]
    },
    {
      "cell_type": "code",
      "source": [],
      "metadata": {
        "colab": {
          "base_uri": "https://localhost:8080/"
        },
        "id": "C0c8YNOnQJ2s",
        "outputId": "1e2a53d4-6d28-4287-d1f9-5caeac9d23fa"
      },
      "execution_count": null,
      "outputs": [
        {
          "output_type": "execute_result",
          "data": {
            "text/plain": [
              "array(['fps', 'jrpg', 'accion'], dtype=object)"
            ]
          },
          "metadata": {},
          "execution_count": 10
        }
      ]
    },
    {
      "cell_type": "markdown",
      "source": [
        "# Nueva sección"
      ],
      "metadata": {
        "id": "CuZYCpgrdswk"
      }
    }
  ]
}